{
 "cells": [
  {
   "cell_type": "markdown",
   "metadata": {},
   "source": [
    "# Applying Gradient Descent - Lab\n",
    "\n",
    "## Introduction\n",
    "\n",
    "In the last lesson, we derived the functions that we help us descend along our cost functions efficiently.  Remember that this technique is not so different from what we saw with using the derivative to tell us our next step size and direction in two dimensions.  \n",
    "\n",
    "![](./images/slopes.png)\n",
    "\n",
    "When descending along our cost curve in two dimensions, we used the slope of the tangent line at each point, to tell us how large of a step to take next.  And with the cost curve being a function of $m$ and $b$, we had to use the gradient to determine each step.  \n",
    "\n",
    "<img src=\"./images/new_gradientdescent.png\" width=\"600\">\n",
    "\n",
    "But really it's an analogous approach.  Just like we can calculate the use derivative of a function $f(x)$ to calculate the slope at a given value of $x$ on the graph and thus our next step.  Here, we calculated the partial derivative with respect to both variables, our slope and y-intercept, to calculate the amount to move next in either direction and thus to steer us towards our minimum.   \n",
    "\n",
    "## Objectives\n",
    "\n",
    "You will be able to:\n",
    "* Create functions to perform a simulation of gradient descent for an actual dataset\n",
    "* Represent RSS as a multivariable function and take partial derivatives to perform gradient descent\n",
    "\n",
    "## Reviewing our gradient descent formulas\n",
    "\n",
    "Luckily for us, we already did the hard work of deriving these formulas.  Now we get to see the fruit of our labor.  The following formulas tell us how to update regression variables of $m$ and $b$ to approach a \"best fit\" line.   \n",
    "\n",
    "- $ \\frac{dJ}{dm}J(m,b) = -2\\sum_{i = 1}^n x_i(y_i - (mx_i + b)) = -2\\sum_{i = 1}^n x_i*\\epsilon_i$ \n",
    "- $ \\frac{dJ}{db}J(m,b) = -2\\sum_{i = 1}^n(y_i - (mx_i + b)) = -2\\sum_{i = 1}^n \\epsilon_i $\n",
    "\n",
    "Now the formulas above tell us to take some dataset, with values of $x$ and $y$, and then given a regression formula with values $m$ and $b$, iterate through our dataset, and use the formulas to calculate an update to $m$ and $b$.  So ultimately, to descend along the cost function, we will use the calculations:\n",
    "\n",
    "`current_m` = `old_m` $ -  (-2*\\sum_{i=1}^n x_i*\\epsilon_i )$\n",
    "\n",
    "`current_b` =  `old_b` $ - ( -2*\\sum_{i=1}^n \\epsilon_i )$\n",
    "\n",
    "Ok let's turn this into code.  First, let's initialize our data like we did before:"
   ]
  },
  {
   "cell_type": "code",
   "execution_count": 1,
   "metadata": {},
   "outputs": [
    {
     "data": {
      "image/png": "[encoded data removed]",
      "text/plain": [
       "<Figure size 460.8x403.2 with 1 Axes>"
      ]
     },
     "metadata": {},
     "output_type": "display_data"
    }
   ],
   "source": [
    "import numpy as np\n",
    "np.set_printoptions(formatter={'float_kind':'{:f}'.format})\n",
    "import matplotlib.pyplot as plt\n",
    "%matplotlib inline\n",
    "from jupyterthemes import jtplot\n",
    "jtplot.style()\n",
    "np.random.seed(225)\n",
    "\n",
    "x = np.random.rand(30, 1).reshape(30)\n",
    "y_randterm = np.random.normal(0,3,30)\n",
    "y = 3 + 50* x + y_randterm\n",
    "\n",
    "data = np.array([y, x])\n",
    "data = np.transpose(data)\n",
    "\n",
    "plt.plot(x, y, '.b')\n",
    "plt.xlabel(\"x\", fontsize=14)\n",
    "plt.ylabel(\"y\", fontsize=14);"
   ]
  },
  {
   "cell_type": "markdown",
   "metadata": {},
   "source": [
    "Now\n",
    "\n",
    "- Let's set our initial regression line by initializing $m$ and $b$ variables as zero.  Store them in `b_current` and `m_current`.\n",
    "- Let's next initialize updates to these variables by setting the variables, `update_to_b` and `update_to_m` equal to 0.\n",
    "- Define an `error_at` function which returns the error $\\epsilon_i$ for a given $i$. The parameters are:\n",
    "> point: a row of the particular data set  \n",
    "> $b$: the intercept term  \n",
    "> $m$: the slope  \n",
    "\n",
    "- Them, use this `error_at` function to iterate through each of the points in the dataset, and at each iteration change our `update_to_b` by $2*\\epsilon$ and change our `update_to_m` by $2*x*\\epsilon$."
   ]
  },
  {
   "cell_type": "code",
   "execution_count": 2,
   "metadata": {},
   "outputs": [
    {
     "data": {
      "text/plain": [
       "array([[19.362906, 0.292166],\n",
       "       [29.592859, 0.535155],\n",
       "       [18.405591, 0.229868],\n",
       "       [25.535516, 0.373698],\n",
       "       [32.089449, 0.592637]])"
      ]
     },
     "execution_count": 2,
     "metadata": {},
     "output_type": "execute_result"
    }
   ],
   "source": [
    "data[:5, :]"
   ]
  },
  {
   "cell_type": "code",
   "execution_count": 3,
   "metadata": {},
   "outputs": [
    {
     "name": "stdout",
     "output_type": "stream",
     "text": [
      "1815.0185037502683 1243.7171547903115\n"
     ]
    }
   ],
   "source": [
    "# initial variables of our regression line\n",
    "b_current = 0\n",
    "m_current = 0\n",
    "\n",
    "#amount to update our variables for our next step\n",
    "update_to_b = 0\n",
    "update_to_m = 0\n",
    "\n",
    "# Define the error_at function\n",
    "def error_at(point, b, m):\n",
    "    error = (point[0] - (m*point[1] + b))\n",
    "    return error\n",
    "\n",
    "# iterate through data to change update_to_b and update_to_m\n",
    "for row in data:\n",
    "    error = error_at(row, b_current, m_current)\n",
    "    update_to_b += -2 * error\n",
    "    update_to_m += -2 * row[1] * error\n",
    "\n",
    "# Create new_b and new_m by subtracting the updates from the current estimates\n",
    "new_b = b_current - update_to_b\n",
    "new_m = m_current - update_to_m\n",
    "\n",
    "print(new_b, new_m)"
   ]
  },
  {
   "cell_type": "markdown",
   "metadata": {},
   "source": [
    "In the last two lines of the code above, we calculate our `new_b` and `new_m` values by updating our taking our current values and adding our respective updates.  We define a function called `error_at`, which we can use in the error component of our partial derivatives above.\n",
    "\n",
    "The code above represents **just one** update to our regression line, and therefore just one step towards our best fit line.  We'll just repeat the process to take multiple steps.  But first, we have to make a couple of other changes. \n",
    "\n",
    "## Tweaking our approach \n",
    "\n",
    "Ok, the above code is very close to what we want, but we just need to make tweaks to our code before it's perfect.\n",
    "\n",
    "The first one is obvious if we think about what these formulas are really telling us to do.  Look at the graph below, and think about what it means to change each of our $m$ and $b$ variables by at least the sum of all of the errors, of the $y$ values that our regression line predicts and our actual data.  That would be an enormous change.  To ensure that we drastically updating our regression line with each step, we multiply each of these partial derivatives by a learning rate.  As we have seen before, the learning rate is just a small number, like $.\n",
    "01$ which controls how large our updates to the regression line will be.  The learning rate is  represented by the Greek letter eta, $\\eta$, or alpha $\\alpha$.  We'll use eta, so $\\eta = .01$ means the learning rate is $.01$.\n",
    "\n",
    "Multiplying our step size by our learning rate works fine, so long as we multiply both of the partial derivatives by the same amount.  This is because without gradient,  $ \\nabla J(m,b)$, we think of as steering us in the correct direction.  In other words, our derivatives ensure we are making the correct **proportional** changes to $m$ and $b$.  So scaling down these changes to make sure we don't update our regression line too quickly works fine, so long as we keep me moving in the correct direction.  While we're at it, we can also get rid of multiplying our partials by 2.  As mentioned, so long as our changes are proportional we're in good shape. \n",
    "\n",
    "For our second tweak, note that in general the larger the dataset, the larger the sum of our errors would be.  But that doesn't mean our formulas are less accurate, and there deserve larger changes.  It just means that the total error is larger.  But we should really think accuracy as being proportional to the size of our dataset.  We can correct for this effect by dividing the effect of our update by the size of our dataset, $n$.\n",
    "\n",
    "Make these changes below:"
   ]
  },
  {
   "cell_type": "code",
   "execution_count": 4,
   "metadata": {},
   "outputs": [
    {
     "name": "stdout",
     "output_type": "stream",
     "text": [
      "0.3025030839583781 0.20728619246505187\n"
     ]
    }
   ],
   "source": [
    "#amount to update our variables for our next step\n",
    "update_to_b = 0\n",
    "update_to_m = 0\n",
    "\n",
    "# define learning rate and n\n",
    "n = 0.01\n",
    "\n",
    "# create update_to_b and update_to_m\n",
    "for row in data:\n",
    "    error = error_at(row, b_current, m_current)\n",
    "    update_to_b += -n * error / len(data)\n",
    "    update_to_m += -n * row[1] * error / len(data)\n",
    "    \n",
    "# create new_b and new_m\n",
    "new_b = b_current - update_to_b\n",
    "new_m = m_current - update_to_m\n",
    "\n",
    "print(new_b, new_m)"
   ]
  },
  {
   "cell_type": "markdown",
   "metadata": {},
   "source": [
    "So our code now reflects what we know about our gradient descent process.  Start with an initial regression line with values of $m$ and $b$.  Then for each point, calculate how the regression line fares against the actual point (that is, find the error).  Update what the next step to the respective variable should be by using the partial derivative.  And after iterating through all of the points, update the value of $b$ and $m$ appropriately, scaled down by a learning rate.\n",
    "\n",
    "## Seeing our gradient descent formulas in action\n",
    "\n",
    "As mentioned earlier, the code above represents just one update to our regression line, and therefore just one step towards our best fit line.  To take multiple steps we wrap the process we want to duplicate in a function called `step_gradient` and then can call that function as much as we want. With this function:\n",
    "\n",
    "- Include a learning_rate of 0.1\n",
    "- Return a tuple of (b,m)  \n",
    "The parameters should be:\n",
    "> b_current : the starting value of b   \n",
    "> m_current : the starting value of m   \n",
    "> points : the number of points at which we want to check our gradient \n",
    "\n",
    "See if you can use your `error_at` function within the `step_gradient` function!"
   ]
  },
  {
   "cell_type": "code",
   "execution_count": 5,
   "metadata": {},
   "outputs": [],
   "source": [
    "def step_gradient(b_current, m_current, data):\n",
    "    n = 0.1\n",
    "    update_to_b = 0\n",
    "    update_to_m = 0\n",
    "    \n",
    "    for row in data:\n",
    "        error = error_at(row, b_current, m_current)\n",
    "        update_to_b += -n * error / len(data)\n",
    "        update_to_m += -n * row[1] * error / len(data)\n",
    "        \n",
    "    new_b = b_current - update_to_b\n",
    "    new_m = m_current - update_to_m\n",
    "    \n",
    "    return (new_b, new_m)"
   ]
  },
  {
   "cell_type": "markdown",
   "metadata": {},
   "source": [
    "Now let's initialize `b` and `m` as 0 and run a first iteration of the `step_gradient` function."
   ]
  },
  {
   "cell_type": "code",
   "execution_count": 6,
   "metadata": {},
   "outputs": [
    {
     "name": "stdout",
     "output_type": "stream",
     "text": [
      "b= 3.0250308395837813, m= 2.072861924650519\n"
     ]
    }
   ],
   "source": [
    "b_current = 0\n",
    "m_current = 0\n",
    "\n",
    "b, m = step_gradient(b_current, m_current, data)\n",
    "print(\"b= {}, m= {}\".format(b, m))\n",
    "# b= 3.02503, m= 2.07286"
   ]
  },
  {
   "cell_type": "markdown",
   "metadata": {},
   "source": [
    "So just looking at input and output, we begin by setting $b$ and $m$ to 0 and 0.  Then from our step_gradient function, we receive new values of $b$ and $m$ of 3.02503 and 2.0728.  Now what we need to do, is take another step in the correct direction by calling our step gradient function with our updated values of $b$ and $m$."
   ]
  },
  {
   "cell_type": "code",
   "execution_count": 7,
   "metadata": {},
   "outputs": [
    {
     "name": "stdout",
     "output_type": "stream",
     "text": [
      "b= 5.634896312558806, m= 3.9022656489039655\n"
     ]
    }
   ],
   "source": [
    "b, m = step_gradient(b, m, data)\n",
    "print(\"b= {}, m= {}\".format(b, m))\n",
    "# b = 5.63489, m= 3.902265"
   ]
  },
  {
   "cell_type": "markdown",
   "metadata": {},
   "source": [
    "Let's do this, say, 1000 times."
   ]
  },
  {
   "cell_type": "code",
   "execution_count": 8,
   "metadata": {},
   "outputs": [],
   "source": [
    "# create a for loop to do this\n",
    "iterations = []\n",
    "b = 0\n",
    "m = 0\n",
    "\n",
    "for i in range(1000):\n",
    "    values = step_gradient(b, m, data)\n",
    "    iterations.append(values)\n",
    "    b = values[0]\n",
    "    m = values[1]"
   ]
  },
  {
   "cell_type": "markdown",
   "metadata": {},
   "source": [
    "Let's take a look at the estimates in the last iteration."
   ]
  },
  {
   "cell_type": "code",
   "execution_count": 9,
   "metadata": {},
   "outputs": [
    {
     "data": {
      "image/png": "[encoded data removed]",
      "text/plain": [
       "<Figure size 864x576 with 1 Axes>"
      ]
     },
     "metadata": {},
     "output_type": "display_data"
    }
   ],
   "source": [
    "bs = [iteration[0] for iteration in iterations]\n",
    "ms = [iteration[1] for iteration in iterations]\n",
    "plt.figure(figsize=(12,8))\n",
    "plt.plot(list(range(len(iterations))), bs, label='b values')\n",
    "plt.plot(list(range(len(iterations))), ms, c='g', label='m values')\n",
    "plt.legend()\n",
    "plt.show()"
   ]
  },
  {
   "cell_type": "code",
   "execution_count": 10,
   "metadata": {},
   "outputs": [
    {
     "data": {
      "text/plain": [
       "(3.0250308395837813, 2.072861924650519)"
      ]
     },
     "execution_count": 10,
     "metadata": {},
     "output_type": "execute_result"
    }
   ],
   "source": [
    "iterations[0]"
   ]
  },
  {
   "cell_type": "code",
   "execution_count": 11,
   "metadata": {},
   "outputs": [
    {
     "data": {
      "text/plain": [
       "(3.1619764855577257, 49.84313430300858)"
      ]
     },
     "execution_count": 11,
     "metadata": {},
     "output_type": "execute_result"
    }
   ],
   "source": [
    "iterations[999]"
   ]
  },
  {
   "cell_type": "markdown",
   "metadata": {},
   "source": [
    "As you can see, our  m  and  b  values both update with each step. Not only that, but with each step, the size of the changes to  m and  b  decrease. This is because they are approaching a best fit line.\n",
    "\n",
    "## Let's include 2 predictors, $x_1$ and $x_2$\n",
    "\n",
    "Below, we generated a problem where we have 2 predictors. We generated data such that the best fit line is around $\\hat y = 3x_1 -4x_2 +2$, noting that there is random noise introduced, so the final result will never be exactly that. Let's build what we built previously, but now create a `step_gradient_multi` function that can take an *arbitrary* number of predictors (so the function should be able to include more than 2 predictors as well). Good luck!"
   ]
  },
  {
   "cell_type": "code",
   "execution_count": 95,
   "metadata": {},
   "outputs": [],
   "source": [
    "import numpy as np\n",
    "np.random.seed(11)\n",
    "\n",
    "x1 = np.random.rand(100,1).reshape(100)\n",
    "x2 = np.random.rand(100,1).reshape(100)\n",
    "y_randterm = np.random.normal(0,0.2,100)\n",
    "y = 2+ 3* x1+ -4*x2 + y_randterm\n",
    "\n",
    "data = np.array([y, x1, x2])\n",
    "data = np.transpose(data)"
   ]
  },
  {
   "cell_type": "code",
   "execution_count": 96,
   "metadata": {},
   "outputs": [
    {
     "data": {
      "image/png": "[encoded data removed]",
      "text/plain": [
       "<Figure size 720x360 with 2 Axes>"
      ]
     },
     "metadata": {},
     "output_type": "display_data"
    }
   ],
   "source": [
    "f, (ax1, ax2) = plt.subplots(1, 2, figsize=(10, 5), sharey=True)\n",
    "ax1.set_title('x_1')\n",
    "ax1.plot(x1, y, '.b')\n",
    "ax2.set_title('x_2')\n",
    "ax2.plot(x2, y, '.b');"
   ]
  },
  {
   "cell_type": "markdown",
   "metadata": {},
   "source": [
    "Note that, for our gradients, when having multiple predictors $x_j$ with $j \\in 1,\\ldots, k$\n",
    "\n",
    "$$ \\frac{dJ}{dm_j}J(m_j,b) = -2\\sum_{i = 1}^n x_{j,i}(y_i - (\\sum_{j=1}^km{x_{j,i}} + b)) = -2\\sum_{i = 1}^n x_{j,i}*\\epsilon_i$$\n",
    "$$ \\frac{dJ}{db}J(m_j,b) = -2\\sum_{i = 1}^n(y_i - (\\sum_{j=1}^km{x_{j,i}} + b)) = -2\\sum_{i = 1}^n \\epsilon_i $$\n",
    "    \n",
    "\n",
    "So we'll have one gradient per predictor along with the gradient for the intercept!\n",
    "\n",
    "Create the `step_gradient_multi` function below. As we said before, this means that we have more than one feature that we are using as an independent variable in the regression. This function will have the same inputs as `step_gradient`, but it will be able to handle having more than one value for m. It should return the final values for b and m in the form of a tuple.\n",
    "\n",
    "- `b_current` refers to the y-intercept at the current step\n",
    "- `m_current` refers to the slope at the current step\n",
    "- `points` are the data points to which we want to fit a line\n",
    "\n",
    "You might have to refactor your `error` at function if you want to use it with multiple m values."
   ]
  },
  {
   "cell_type": "code",
   "execution_count": 124,
   "metadata": {},
   "outputs": [],
   "source": [
    "def step_gradient_multi(b_current, ms_current, data, n=0.1):\n",
    "    change_to_b = 0\n",
    "    change_to_ms = np.zeros(len(ms_current))\n",
    "    \n",
    "    def error_at(point, b, ms):\n",
    "        num_predictors = len(point) - 1\n",
    "        error = (point[0] - (sum(ms*point[1:]) + b))\n",
    "        return error\n",
    "    \n",
    "    for point in data:\n",
    "        error = error_at(point, b_current, ms_current)\n",
    "        change_to_b += -n * error / float(len(data))\n",
    "        change_to_ms += -n * error * point[1:] / float(len(data))\n",
    "        \n",
    "    new_b = b_current - change_to_b\n",
    "    new_ms = ms_current - change_to_ms\n",
    "    \n",
    "    return {'b': new_b, 'ms': new_ms}"
   ]
  },
  {
   "cell_type": "markdown",
   "metadata": {},
   "source": [
    "Apply 1 step to our data"
   ]
  },
  {
   "cell_type": "code",
   "execution_count": 125,
   "metadata": {},
   "outputs": [
    {
     "data": {
      "text/plain": [
       "{'b': 0.1396549108806156, 'ms': array([0.093847, 0.038762])}"
      ]
     },
     "execution_count": 125,
     "metadata": {},
     "output_type": "execute_result"
    }
   ],
   "source": [
    "b_current = 0\n",
    "ms_current = np.array([0, 0])\n",
    "step = step_gradient_multi(b_current, ms_current, data)\n",
    "step"
   ]
  },
  {
   "cell_type": "markdown",
   "metadata": {},
   "source": [
    "Apply 500 steps to our data"
   ]
  },
  {
   "cell_type": "code",
   "execution_count": 126,
   "metadata": {},
   "outputs": [
    {
     "data": {
      "text/plain": [
       "{'b': 0.25854528797648124, 'ms': array([0.176423, 0.066182])}"
      ]
     },
     "execution_count": 126,
     "metadata": {},
     "output_type": "execute_result"
    }
   ],
   "source": [
    "b_current = 0\n",
    "ms_current = np.array([0, 0])\n",
    "iterations = []\n",
    "\n",
    "for i in range(500):\n",
    "    step = step_gradient_multi(b_current, ms_current, data)\n",
    "    iterations.append(step)\n",
    "    b_current = step['b']\n",
    "    ms_current = step['ms']\n",
    "    \n",
    "iterations[1]"
   ]
  },
  {
   "cell_type": "markdown",
   "metadata": {},
   "source": [
    "Look at the last step"
   ]
  },
  {
   "cell_type": "code",
   "execution_count": 127,
   "metadata": {},
   "outputs": [
    {
     "data": {
      "text/plain": [
       "{'b': 1.9444283324428657, 'ms': array([2.995890, -3.911055])}"
      ]
     },
     "execution_count": 127,
     "metadata": {},
     "output_type": "execute_result"
    }
   ],
   "source": [
    "iterations[-1]"
   ]
  },
  {
   "cell_type": "code",
   "execution_count": 128,
   "metadata": {},
   "outputs": [
    {
     "data": {
      "text/plain": [
       "array([2.998731, -4.009928])"
      ]
     },
     "execution_count": 128,
     "metadata": {},
     "output_type": "execute_result"
    }
   ],
   "source": [
    "reg = LinearRegression().fit(X=np.array([x1, x2]).T, y=y)\n",
    "reg.coef_"
   ]
  },
  {
   "cell_type": "code",
   "execution_count": 129,
   "metadata": {},
   "outputs": [
    {
     "data": {
      "text/plain": [
       "1.9984006102324667"
      ]
     },
     "execution_count": 129,
     "metadata": {},
     "output_type": "execute_result"
    }
   ],
   "source": [
    "reg.intercept_"
   ]
  },
  {
   "cell_type": "markdown",
   "metadata": {},
   "source": [
    "## Level up - optional\n",
    "\n",
    "Try your own gradient descent algorithm on the Boston Housing data set, and compare with the result from scikit learn!\n",
    "Be careful to test on a few continuous variables at first, and see how you perform. Scikit learn has built-in \"regularization\" parameters to make optimization more feasible for many parameters.\n",
    "\n",
    "## Summary\n",
    "\n",
    "In this section, we saw our gradient descent formulas in action.  The core of the gradient descent functions is understanding the two lines: \n",
    "\n",
    "$$ \\frac{dJ}{dm}J(m,b) = -2\\sum_{i = 1}^n x(y_i - (mx_i + b)) = -2\\sum_{i = 1}^n x_i*\\epsilon_i$$\n",
    "$$ \\frac{dJ}{db}J(m,b) = -2\\sum_{i = 1}^n(y_i - (mx_i + b)) = -2\\sum_{i = 1}^n \\epsilon_i $$\n",
    "    \n",
    "Which both look to the errors of the current regression line for our dataset to determine how to update the regression line next.  These formulas came from our cost function, $J(m,b) = \\sum_{i = 1}^n(y_i - (mx_i + b))^2 $, and using the gradient to find the direction of steepest descent.  Translating this into code, and seeing how the regression line continued to improve in alignment with the data, we saw the effectiveness of this technique in practice. Additionally, we saw how you can extend the gradient descent algorithm to multiple predictors."
   ]
  },
  {
   "cell_type": "code",
   "execution_count": 21,
   "metadata": {},
   "outputs": [],
   "source": [
    "from sklearn.datasets import load_boston\n",
    "boston = load_boston()"
   ]
  },
  {
   "cell_type": "code",
   "execution_count": 22,
   "metadata": {
    "scrolled": false
   },
   "outputs": [
    {
     "data": {
      "text/plain": [
       "{'data': array([[0.006320, 18.000000, 2.310000, ..., 15.300000, 396.900000,\n",
       "         4.980000],\n",
       "        [0.027310, 0.000000, 7.070000, ..., 17.800000, 396.900000,\n",
       "         9.140000],\n",
       "        [0.027290, 0.000000, 7.070000, ..., 17.800000, 392.830000,\n",
       "         4.030000],\n",
       "        ...,\n",
       "        [0.060760, 0.000000, 11.930000, ..., 21.000000, 396.900000,\n",
       "         5.640000],\n",
       "        [0.109590, 0.000000, 11.930000, ..., 21.000000, 393.450000,\n",
       "         6.480000],\n",
       "        [0.047410, 0.000000, 11.930000, ..., 21.000000, 396.900000,\n",
       "         7.880000]]),\n",
       " 'target': array([24.000000, 21.600000, 34.700000, 33.400000, 36.200000, 28.700000,\n",
       "        22.900000, 27.100000, 16.500000, 18.900000, 15.000000, 18.900000,\n",
       "        21.700000, 20.400000, 18.200000, 19.900000, 23.100000, 17.500000,\n",
       "        20.200000, 18.200000, 13.600000, 19.600000, 15.200000, 14.500000,\n",
       "        15.600000, 13.900000, 16.600000, 14.800000, 18.400000, 21.000000,\n",
       "        12.700000, 14.500000, 13.200000, 13.100000, 13.500000, 18.900000,\n",
       "        20.000000, 21.000000, 24.700000, 30.800000, 34.900000, 26.600000,\n",
       "        25.300000, 24.700000, 21.200000, 19.300000, 20.000000, 16.600000,\n",
       "        14.400000, 19.400000, 19.700000, 20.500000, 25.000000, 23.400000,\n",
       "        18.900000, 35.400000, 24.700000, 31.600000, 23.300000, 19.600000,\n",
       "        18.700000, 16.000000, 22.200000, 25.000000, 33.000000, 23.500000,\n",
       "        19.400000, 22.000000, 17.400000, 20.900000, 24.200000, 21.700000,\n",
       "        22.800000, 23.400000, 24.100000, 21.400000, 20.000000, 20.800000,\n",
       "        21.200000, 20.300000, 28.000000, 23.900000, 24.800000, 22.900000,\n",
       "        23.900000, 26.600000, 22.500000, 22.200000, 23.600000, 28.700000,\n",
       "        22.600000, 22.000000, 22.900000, 25.000000, 20.600000, 28.400000,\n",
       "        21.400000, 38.700000, 43.800000, 33.200000, 27.500000, 26.500000,\n",
       "        18.600000, 19.300000, 20.100000, 19.500000, 19.500000, 20.400000,\n",
       "        19.800000, 19.400000, 21.700000, 22.800000, 18.800000, 18.700000,\n",
       "        18.500000, 18.300000, 21.200000, 19.200000, 20.400000, 19.300000,\n",
       "        22.000000, 20.300000, 20.500000, 17.300000, 18.800000, 21.400000,\n",
       "        15.700000, 16.200000, 18.000000, 14.300000, 19.200000, 19.600000,\n",
       "        23.000000, 18.400000, 15.600000, 18.100000, 17.400000, 17.100000,\n",
       "        13.300000, 17.800000, 14.000000, 14.400000, 13.400000, 15.600000,\n",
       "        11.800000, 13.800000, 15.600000, 14.600000, 17.800000, 15.400000,\n",
       "        21.500000, 19.600000, 15.300000, 19.400000, 17.000000, 15.600000,\n",
       "        13.100000, 41.300000, 24.300000, 23.300000, 27.000000, 50.000000,\n",
       "        50.000000, 50.000000, 22.700000, 25.000000, 50.000000, 23.800000,\n",
       "        23.800000, 22.300000, 17.400000, 19.100000, 23.100000, 23.600000,\n",
       "        22.600000, 29.400000, 23.200000, 24.600000, 29.900000, 37.200000,\n",
       "        39.800000, 36.200000, 37.900000, 32.500000, 26.400000, 29.600000,\n",
       "        50.000000, 32.000000, 29.800000, 34.900000, 37.000000, 30.500000,\n",
       "        36.400000, 31.100000, 29.100000, 50.000000, 33.300000, 30.300000,\n",
       "        34.600000, 34.900000, 32.900000, 24.100000, 42.300000, 48.500000,\n",
       "        50.000000, 22.600000, 24.400000, 22.500000, 24.400000, 20.000000,\n",
       "        21.700000, 19.300000, 22.400000, 28.100000, 23.700000, 25.000000,\n",
       "        23.300000, 28.700000, 21.500000, 23.000000, 26.700000, 21.700000,\n",
       "        27.500000, 30.100000, 44.800000, 50.000000, 37.600000, 31.600000,\n",
       "        46.700000, 31.500000, 24.300000, 31.700000, 41.700000, 48.300000,\n",
       "        29.000000, 24.000000, 25.100000, 31.500000, 23.700000, 23.300000,\n",
       "        22.000000, 20.100000, 22.200000, 23.700000, 17.600000, 18.500000,\n",
       "        24.300000, 20.500000, 24.500000, 26.200000, 24.400000, 24.800000,\n",
       "        29.600000, 42.800000, 21.900000, 20.900000, 44.000000, 50.000000,\n",
       "        36.000000, 30.100000, 33.800000, 43.100000, 48.800000, 31.000000,\n",
       "        36.500000, 22.800000, 30.700000, 50.000000, 43.500000, 20.700000,\n",
       "        21.100000, 25.200000, 24.400000, 35.200000, 32.400000, 32.000000,\n",
       "        33.200000, 33.100000, 29.100000, 35.100000, 45.400000, 35.400000,\n",
       "        46.000000, 50.000000, 32.200000, 22.000000, 20.100000, 23.200000,\n",
       "        22.300000, 24.800000, 28.500000, 37.300000, 27.900000, 23.900000,\n",
       "        21.700000, 28.600000, 27.100000, 20.300000, 22.500000, 29.000000,\n",
       "        24.800000, 22.000000, 26.400000, 33.100000, 36.100000, 28.400000,\n",
       "        33.400000, 28.200000, 22.800000, 20.300000, 16.100000, 22.100000,\n",
       "        19.400000, 21.600000, 23.800000, 16.200000, 17.800000, 19.800000,\n",
       "        23.100000, 21.000000, 23.800000, 23.100000, 20.400000, 18.500000,\n",
       "        25.000000, 24.600000, 23.000000, 22.200000, 19.300000, 22.600000,\n",
       "        19.800000, 17.100000, 19.400000, 22.200000, 20.700000, 21.100000,\n",
       "        19.500000, 18.500000, 20.600000, 19.000000, 18.700000, 32.700000,\n",
       "        16.500000, 23.900000, 31.200000, 17.500000, 17.200000, 23.100000,\n",
       "        24.500000, 26.600000, 22.900000, 24.100000, 18.600000, 30.100000,\n",
       "        18.200000, 20.600000, 17.800000, 21.700000, 22.700000, 22.600000,\n",
       "        25.000000, 19.900000, 20.800000, 16.800000, 21.900000, 27.500000,\n",
       "        21.900000, 23.100000, 50.000000, 50.000000, 50.000000, 50.000000,\n",
       "        50.000000, 13.800000, 13.800000, 15.000000, 13.900000, 13.300000,\n",
       "        13.100000, 10.200000, 10.400000, 10.900000, 11.300000, 12.300000,\n",
       "        8.800000, 7.200000, 10.500000, 7.400000, 10.200000, 11.500000,\n",
       "        15.100000, 23.200000, 9.700000, 13.800000, 12.700000, 13.100000,\n",
       "        12.500000, 8.500000, 5.000000, 6.300000, 5.600000, 7.200000,\n",
       "        12.100000, 8.300000, 8.500000, 5.000000, 11.900000, 27.900000,\n",
       "        17.200000, 27.500000, 15.000000, 17.200000, 17.900000, 16.300000,\n",
       "        7.000000, 7.200000, 7.500000, 10.400000, 8.800000, 8.400000,\n",
       "        16.700000, 14.200000, 20.800000, 13.400000, 11.700000, 8.300000,\n",
       "        10.200000, 10.900000, 11.000000, 9.500000, 14.500000, 14.100000,\n",
       "        16.100000, 14.300000, 11.700000, 13.400000, 9.600000, 8.700000,\n",
       "        8.400000, 12.800000, 10.500000, 17.100000, 18.400000, 15.400000,\n",
       "        10.800000, 11.800000, 14.900000, 12.600000, 14.100000, 13.000000,\n",
       "        13.400000, 15.200000, 16.100000, 17.800000, 14.900000, 14.100000,\n",
       "        12.700000, 13.500000, 14.900000, 20.000000, 16.400000, 17.700000,\n",
       "        19.500000, 20.200000, 21.400000, 19.900000, 19.000000, 19.100000,\n",
       "        19.100000, 20.100000, 19.900000, 19.600000, 23.200000, 29.800000,\n",
       "        13.800000, 13.300000, 16.700000, 12.000000, 14.600000, 21.400000,\n",
       "        23.000000, 23.700000, 25.000000, 21.800000, 20.600000, 21.200000,\n",
       "        19.100000, 20.600000, 15.200000, 7.000000, 8.100000, 13.600000,\n",
       "        20.100000, 21.800000, 24.500000, 23.100000, 19.700000, 18.300000,\n",
       "        21.200000, 17.500000, 16.800000, 22.400000, 20.600000, 23.900000,\n",
       "        22.000000, 11.900000]),\n",
       " 'feature_names': array(['CRIM', 'ZN', 'INDUS', 'CHAS', 'NOX', 'RM', 'AGE', 'DIS', 'RAD',\n",
       "        'TAX', 'PTRATIO', 'B', 'LSTAT'], dtype='<U7'),\n",
       " 'DESCR': \".. _boston_dataset:\\n\\nBoston house prices dataset\\n---------------------------\\n\\n**Data Set Characteristics:**  \\n\\n    :Number of Instances: 506 \\n\\n    :Number of Attributes: 13 numeric/categorical predictive. Median Value (attribute 14) is usually the target.\\n\\n    :Attribute Information (in order):\\n        - CRIM     per capita crime rate by town\\n        - ZN       proportion of residential land zoned for lots over 25,000 sq.ft.\\n        - INDUS    proportion of non-retail business acres per town\\n        - CHAS     Charles River dummy variable (= 1 if tract bounds river; 0 otherwise)\\n        - NOX      nitric oxides concentration (parts per 10 million)\\n        - RM       average number of rooms per dwelling\\n        - AGE      proportion of owner-occupied units built prior to 1940\\n        - DIS      weighted distances to five Boston employment centres\\n        - RAD      index of accessibility to radial highways\\n        - TAX      full-value property-tax rate per $10,000\\n        - PTRATIO  pupil-teacher ratio by town\\n        - B        1000(Bk - 0.63)^2 where Bk is the proportion of blacks by town\\n        - LSTAT    % lower status of the population\\n        - MEDV     Median value of owner-occupied homes in $1000's\\n\\n    :Missing Attribute Values: None\\n\\n    :Creator: Harrison, D. and Rubinfeld, D.L.\\n\\nThis is a copy of UCI ML housing dataset.\\nhttps://archive.ics.uci.edu/ml/machine-learning-databases/housing/\\n\\n\\nThis dataset was taken from the StatLib library which is maintained at Carnegie Mellon University.\\n\\nThe Boston house-price data of Harrison, D. and Rubinfeld, D.L. 'Hedonic\\nprices and the demand for clean air', J. Environ. Economics & Management,\\nvol.5, 81-102, 1978.   Used in Belsley, Kuh & Welsch, 'Regression diagnostics\\n...', Wiley, 1980.   N.B. Various transformations are used in the table on\\npages 244-261 of the latter.\\n\\nThe Boston house-price data has been used in many machine learning papers that address regression\\nproblems.   \\n     \\n.. topic:: References\\n\\n   - Belsley, Kuh & Welsch, 'Regression diagnostics: Identifying Influential Data and Sources of Collinearity', Wiley, 1980. 244-261.\\n   - Quinlan,R. (1993). Combining Instance-Based and Model-Based Learning. In Proceedings on the Tenth International Conference of Machine Learning, 236-243, University of Massachusetts, Amherst. Morgan Kaufmann.\\n\",\n",
       " 'filename': 'c:\\\\users\\\\indez\\\\appdata\\\\local\\\\programs\\\\python\\\\python37\\\\lib\\\\site-packages\\\\sklearn\\\\datasets\\\\data\\\\boston_house_prices.csv'}"
      ]
     },
     "execution_count": 22,
     "metadata": {},
     "output_type": "execute_result"
    }
   ],
   "source": [
    "boston"
   ]
  },
  {
   "cell_type": "code",
   "execution_count": 23,
   "metadata": {},
   "outputs": [
    {
     "data": {
      "text/plain": [
       "sklearn.utils.Bunch"
      ]
     },
     "execution_count": 23,
     "metadata": {},
     "output_type": "execute_result"
    }
   ],
   "source": [
    "type(boston)"
   ]
  },
  {
   "cell_type": "code",
   "execution_count": 24,
   "metadata": {},
   "outputs": [
    {
     "data": {
      "text/plain": [
       "array(['CRIM', 'ZN', 'INDUS', 'CHAS', 'NOX', 'RM', 'AGE', 'DIS', 'RAD',\n",
       "       'TAX', 'PTRATIO', 'B', 'LSTAT'], dtype='<U7')"
      ]
     },
     "execution_count": 24,
     "metadata": {},
     "output_type": "execute_result"
    }
   ],
   "source": [
    "boston['feature_names']"
   ]
  },
  {
   "cell_type": "code",
   "execution_count": 32,
   "metadata": {},
   "outputs": [
    {
     "name": "stdout",
     "output_type": "stream",
     "text": [
      "Features with NaNs:\n",
      "CRIM False\n",
      "ZN False\n",
      "INDUS False\n",
      "CHAS False\n",
      "NOX False\n",
      "RM False\n",
      "AGE False\n",
      "DIS False\n",
      "RAD False\n",
      "TAX False\n",
      "PTRATIO False\n",
      "B False\n",
      "LSTAT False\n"
     ]
    }
   ],
   "source": [
    "# Finding columns with NaNs:\n",
    "print(\"Features with NaNs:\")\n",
    "for i, feature in enumerate(boston['feature_names']):\n",
    "    has_nans = np.isnan(np.sum(boston['data'].T[i]))\n",
    "    print(feature, has_nans)"
   ]
  },
  {
   "cell_type": "code",
   "execution_count": 34,
   "metadata": {},
   "outputs": [
    {
     "name": "stdout",
     "output_type": "stream",
     "text": [
      "CRIM\n"
     ]
    },
    {
     "data": {
      "image/png": "[encoded data removed]",
      "text/plain": [
       "<Figure size 460.8x403.2 with 1 Axes>"
      ]
     },
     "metadata": {},
     "output_type": "display_data"
    },
    {
     "name": "stdout",
     "output_type": "stream",
     "text": [
      "ZN\n"
     ]
    },
    {
     "data": {
      "image/png": "[encoded data removed]",
      "text/plain": [
       "<Figure size 460.8x403.2 with 1 Axes>"
      ]
     },
     "metadata": {},
     "output_type": "display_data"
    },
    {
     "name": "stdout",
     "output_type": "stream",
     "text": [
      "INDUS\n"
     ]
    },
    {
     "data": {
      "image/png": "[encoded data removed]",
      "text/plain": [
       "<Figure size 460.8x403.2 with 1 Axes>"
      ]
     },
     "metadata": {},
     "output_type": "display_data"
    },
    {
     "name": "stdout",
     "output_type": "stream",
     "text": [
      "CHAS\n"
     ]
    },
    {
     "data": {
      "image/png": "[encoded data removed]",
      "text/plain": [
       "<Figure size 460.8x403.2 with 1 Axes>"
      ]
     },
     "metadata": {},
     "output_type": "display_data"
    },
    {
     "name": "stdout",
     "output_type": "stream",
     "text": [
      "NOX\n"
     ]
    },
    {
     "data": {
      "image/png": "[encoded data removed]",
      "text/plain": [
       "<Figure size 460.8x403.2 with 1 Axes>"
      ]
     },
     "metadata": {},
     "output_type": "display_data"
    },
    {
     "name": "stdout",
     "output_type": "stream",
     "text": [
      "RM\n"
     ]
    },
    {
     "data": {
      "image/png": "[encoded data removed]",
      "text/plain": [
       "<Figure size 460.8x403.2 with 1 Axes>"
      ]
     },
     "metadata": {},
     "output_type": "display_data"
    },
    {
     "name": "stdout",
     "output_type": "stream",
     "text": [
      "AGE\n"
     ]
    },
    {
     "data": {
      "image/png": "[encoded data removed]",
      "text/plain": [
       "<Figure size 460.8x403.2 with 1 Axes>"
      ]
     },
     "metadata": {},
     "output_type": "display_data"
    },
    {
     "name": "stdout",
     "output_type": "stream",
     "text": [
      "DIS\n"
     ]
    },
    {
     "data": {
      "image/png": "[encoded data removed]",
      "text/plain": [
       "<Figure size 460.8x403.2 with 1 Axes>"
      ]
     },
     "metadata": {},
     "output_type": "display_data"
    },
    {
     "name": "stdout",
     "output_type": "stream",
     "text": [
      "RAD\n"
     ]
    },
    {
     "data": {
      "image/png": "[encoded data removed]",
      "text/plain": [
       "<Figure size 460.8x403.2 with 1 Axes>"
      ]
     },
     "metadata": {},
     "output_type": "display_data"
    },
    {
     "name": "stdout",
     "output_type": "stream",
     "text": [
      "TAX\n"
     ]
    },
    {
     "data": {
      "image/png": "[encoded data removed]",
      "text/plain": [
       "<Figure size 460.8x403.2 with 1 Axes>"
      ]
     },
     "metadata": {},
     "output_type": "display_data"
    },
    {
     "name": "stdout",
     "output_type": "stream",
     "text": [
      "PTRATIO\n"
     ]
    },
    {
     "data": {
      "image/png": "[encoded data removed]",
      "text/plain": [
       "<Figure size 460.8x403.2 with 1 Axes>"
      ]
     },
     "metadata": {},
     "output_type": "display_data"
    },
    {
     "name": "stdout",
     "output_type": "stream",
     "text": [
      "B\n"
     ]
    },
    {
     "data": {
      "image/png": "[encoded data removed]",
      "text/plain": [
       "<Figure size 460.8x403.2 with 1 Axes>"
      ]
     },
     "metadata": {},
     "output_type": "display_data"
    },
    {
     "name": "stdout",
     "output_type": "stream",
     "text": [
      "LSTAT\n"
     ]
    },
    {
     "data": {
      "image/png": "[encoded data removed]",
      "text/plain": [
       "<Figure size 460.8x403.2 with 1 Axes>"
      ]
     },
     "metadata": {},
     "output_type": "display_data"
    }
   ],
   "source": [
    "# Visualizing features:\n",
    "for i, feature in enumerate(boston['feature_names']):\n",
    "    print(feature)\n",
    "    plt.hist(boston['data'].T[i])\n",
    "    plt.show()"
   ]
  },
  {
   "cell_type": "code",
   "execution_count": 39,
   "metadata": {},
   "outputs": [
    {
     "data": {
      "image/png": "[encoded data removed]",
      "text/plain": [
       "<Figure size 460.8x403.2 with 1 Axes>"
      ]
     },
     "metadata": {},
     "output_type": "display_data"
    }
   ],
   "source": [
    "data_dict = {}\n",
    "for i, feature in enumerate(boston['feature_names']):\n",
    "    data_dict[feature] = boston['data'].T[i]\n",
    "    \n",
    "plt.hist(data_dict['LSTAT']);"
   ]
  },
  {
   "cell_type": "code",
   "execution_count": 49,
   "metadata": {},
   "outputs": [
    {
     "data": {
      "text/plain": [
       "array([[4.980000, 6.575000],\n",
       "       [9.140000, 6.421000],\n",
       "       [4.030000, 7.185000],\n",
       "       ...,\n",
       "       [5.640000, 6.976000],\n",
       "       [6.480000, 6.794000],\n",
       "       [7.880000, 6.030000]])"
      ]
     },
     "execution_count": 49,
     "metadata": {},
     "output_type": "execute_result"
    }
   ],
   "source": [
    "np.array([data_dict['LSTAT'], data_dict['RM']]).T"
   ]
  },
  {
   "cell_type": "code",
   "execution_count": 50,
   "metadata": {},
   "outputs": [],
   "source": [
    "from sklearn.linear_model import LinearRegression\n",
    "\n",
    "linreg = LinearRegression().fit(X=np.array([data_dict['LSTAT'], \n",
    "                                            data_dict['RM']]).T, y=boston['target'])"
   ]
  },
  {
   "cell_type": "code",
   "execution_count": 51,
   "metadata": {},
   "outputs": [
    {
     "data": {
      "text/plain": [
       "array([-0.642358, 5.094788])"
      ]
     },
     "execution_count": 51,
     "metadata": {},
     "output_type": "execute_result"
    }
   ],
   "source": [
    "linreg.coef_"
   ]
  },
  {
   "cell_type": "code",
   "execution_count": 52,
   "metadata": {},
   "outputs": [
    {
     "data": {
      "text/plain": [
       "-1.3582728118744605"
      ]
     },
     "execution_count": 52,
     "metadata": {},
     "output_type": "execute_result"
    }
   ],
   "source": [
    "linreg.intercept_"
   ]
  },
  {
   "cell_type": "code",
   "execution_count": 116,
   "metadata": {},
   "outputs": [
    {
     "data": {
      "text/plain": [
       "array([[24.000000, 4.980000],\n",
       "       [21.600000, 9.140000],\n",
       "       [34.700000, 4.030000],\n",
       "       ...,\n",
       "       [23.900000, 5.640000],\n",
       "       [22.000000, 6.480000],\n",
       "       [11.900000, 7.880000]])"
      ]
     },
     "execution_count": 116,
     "metadata": {},
     "output_type": "execute_result"
    }
   ],
   "source": [
    "data2 = np.array([boston['target'], \n",
    "                  data_dict['LSTAT'], \n",
    "                  #data_dict['RM']\n",
    "                 ]\n",
    "                ).T\n",
    "data2"
   ]
  },
  {
   "cell_type": "code",
   "execution_count": 130,
   "metadata": {},
   "outputs": [
    {
     "data": {
      "text/plain": [
       "{'b': -9.080187916140608e+252,\n",
       " 'ms': array([-151328724003482075683003775109930376946978503619135097799560505144351065562576442964975540739972344471138815519916841474333295256592118315224177835908799185440291408190005106061419161073894843958284771660305572038856792601496378699931052293200504602755072.000000,\n",
       "        -151328724003482075683003775109930376946978503619135097799560505144351065562576442964975540739972344471138815519916841474333295256592118315224177835908799185440291408190005106061419161073894843958284771660305572038856792601496378699931052293200504602755072.000000])}"
      ]
     },
     "execution_count": 130,
     "metadata": {},
     "output_type": "execute_result"
    }
   ],
   "source": [
    "b_current = 0\n",
    "ms_current = np.array([0, 0])\n",
    "iterations = []\n",
    "\n",
    "for i in range(500):\n",
    "    step = step_gradient_multi(b_current, ms_current, data2, n=0.01)\n",
    "    iterations.append(step)\n",
    "    b_current = step['b']\n",
    "    ms_current = step['ms']\n",
    "    \n",
    "iterations[-1]"
   ]
  },
  {
   "cell_type": "code",
   "execution_count": null,
   "metadata": {},
   "outputs": [],
   "source": []
  }
 ],
 "metadata": {
  "kernelspec": {
   "display_name": "Python 3",
   "language": "python",
   "name": "python3"
  },
  "language_info": {
   "codemirror_mode": {
    "name": "ipython",
    "version": 3
   },
   "file_extension": ".py",
   "mimetype": "text/x-python",
   "name": "python",
   "nbconvert_exporter": "python",
   "pygments_lexer": "ipython3",
   "version": "3.7.3"
  }
 },
 "nbformat": 4,
 "nbformat_minor": 2
}
